{
 "cells": [
  {
   "cell_type": "code",
   "execution_count": 2,
   "metadata": {},
   "outputs": [
    {
     "name": "stdout",
     "output_type": "stream",
     "text": [
      "Hello World!\n"
     ]
    }
   ],
   "source": [
    "print(\"Hello World!\")"
   ]
  },
  {
   "cell_type": "code",
   "execution_count": 4,
   "metadata": {},
   "outputs": [],
   "source": [
    "name = \"Karl\""
   ]
  },
  {
   "cell_type": "code",
   "execution_count": 5,
   "metadata": {},
   "outputs": [
    {
     "name": "stdout",
     "output_type": "stream",
     "text": [
      "Karl\n"
     ]
    }
   ],
   "source": [
    "print(name)"
   ]
  },
  {
   "cell_type": "code",
   "execution_count": 7,
   "metadata": {},
   "outputs": [
    {
     "name": "stdout",
     "output_type": "stream",
     "text": [
      "1992\n"
     ]
    }
   ],
   "source": [
    "num = 1992\n",
    "print(num)"
   ]
  },
  {
   "cell_type": "code",
   "execution_count": 8,
   "metadata": {},
   "outputs": [
    {
     "name": "stdout",
     "output_type": "stream",
     "text": [
      "3.1424534636474677\n"
     ]
    }
   ],
   "source": [
    "pi =  3.142453463647467586786968\n",
    "print(pi)"
   ]
  },
  {
   "cell_type": "code",
   "execution_count": 20,
   "metadata": {},
   "outputs": [
    {
     "name": "stdout",
     "output_type": "stream",
     "text": [
      "31872\n"
     ]
    }
   ],
   "source": [
    "num *= 2\n",
    "print(num)"
   ]
  },
  {
   "cell_type": "code",
   "execution_count": 21,
   "metadata": {},
   "outputs": [
    {
     "name": "stdout",
     "output_type": "stream",
     "text": [
      "134987.29411764705\n"
     ]
    }
   ],
   "source": [
    "num *= 5 - 26/34\n",
    "print(num)"
   ]
  },
  {
   "cell_type": "markdown",
   "metadata": {},
   "source": [
    "# BEDMAS\n",
    "## Brackets () {} []\n",
    "## Exponents **\n",
    "## Division /\n",
    "## Multiplication *\n",
    "## Addition + \n",
    "## Subtraction -\n"
   ]
  },
  {
   "cell_type": "code",
   "execution_count": 22,
   "metadata": {},
   "outputs": [
    {
     "name": "stdout",
     "output_type": "stream",
     "text": [
      "-26.999906885642456\n"
     ]
    }
   ],
   "source": [
    "pi = (pi*4) / (num +6) - 27\n",
    "print(pi)"
   ]
  },
  {
   "cell_type": "code",
   "execution_count": 24,
   "metadata": {},
   "outputs": [
    {
     "name": "stdout",
     "output_type": "stream",
     "text": [
      "36\n"
     ]
    }
   ],
   "source": [
    "num = 1\n",
    "num = (num * 2) + 4\n",
    "num = num ** 2 #** means num*num\n",
    "print(num)"
   ]
  },
  {
   "cell_type": "code",
   "execution_count": 25,
   "metadata": {},
   "outputs": [
    {
     "name": "stdout",
     "output_type": "stream",
     "text": [
      "30\n"
     ]
    }
   ],
   "source": [
    "num -= 6\n",
    "print(num)"
   ]
  },
  {
   "cell_type": "code",
   "execution_count": 26,
   "metadata": {},
   "outputs": [
    {
     "name": "stdout",
     "output_type": "stream",
     "text": [
      "Variable   Type     Data/Info\n",
      "-----------------------------\n",
      "name       str      Karl\n",
      "num        int      30\n",
      "pi         float    -26.999906885642456\n"
     ]
    }
   ],
   "source": [
    "#To show variables\n",
    "%whos"
   ]
  },
  {
   "cell_type": "code",
   "execution_count": 29,
   "metadata": {},
   "outputs": [
    {
     "name": "stdout",
     "output_type": "stream",
     "text": [
      "3.3333333333333335\n"
     ]
    }
   ],
   "source": [
    "#Decimal Devision\n",
    "num = 10 / 3\n",
    "print(num)"
   ]
  },
  {
   "cell_type": "code",
   "execution_count": 27,
   "metadata": {},
   "outputs": [
    {
     "name": "stdout",
     "output_type": "stream",
     "text": [
      "3\n"
     ]
    }
   ],
   "source": [
    "#Integer Devision\n",
    "num = 10\n",
    "num = 10 // 3\n",
    "print(num)"
   ]
  },
  {
   "cell_type": "code",
   "execution_count": 28,
   "metadata": {},
   "outputs": [
    {
     "name": "stdout",
     "output_type": "stream",
     "text": [
      "1\n"
     ]
    }
   ],
   "source": [
    "#Modulus Devision\n",
    "num = 10 % 3 #Chia lay phan du\n",
    "print(num)"
   ]
  },
  {
   "cell_type": "code",
   "execution_count": 31,
   "metadata": {},
   "outputs": [
    {
     "name": "stdout",
     "output_type": "stream",
     "text": [
      "2 + 1 = \n",
      "3\n"
     ]
    }
   ],
   "source": [
    "print(\"2 + 1 = \")\n",
    "print(3)"
   ]
  },
  {
   "cell_type": "code",
   "execution_count": 33,
   "metadata": {},
   "outputs": [
    {
     "name": "stdout",
     "output_type": "stream",
     "text": [
      "2 + 1 = 3\n"
     ]
    }
   ],
   "source": [
    "print(\"2 + 1 =\", 3)"
   ]
  },
  {
   "cell_type": "code",
   "execution_count": 34,
   "metadata": {},
   "outputs": [
    {
     "name": "stdout",
     "output_type": "stream",
     "text": [
      "2 + 1 =3\n"
     ]
    }
   ],
   "source": [
    "print(\"2 + 1 =\" + str(3))"
   ]
  },
  {
   "cell_type": "code",
   "execution_count": 35,
   "metadata": {},
   "outputs": [
    {
     "name": "stdout",
     "output_type": "stream",
     "text": [
      "2 + 1 = 3\n"
     ]
    }
   ],
   "source": [
    "#Formatted strings\n",
    "print(\"2 + 1 = {0}\".format(3)) #Put 3 in placeholder \n"
   ]
  },
  {
   "cell_type": "code",
   "execution_count": 36,
   "metadata": {},
   "outputs": [
    {
     "name": "stdout",
     "output_type": "stream",
     "text": [
      "2 + 1 = 3\n"
     ]
    }
   ],
   "source": [
    "print(\"{0} + {1} = {2}\".format(2,1,3))"
   ]
  },
  {
   "cell_type": "code",
   "execution_count": 37,
   "metadata": {},
   "outputs": [
    {
     "name": "stdout",
     "output_type": "stream",
     "text": [
      "num = 3.3333333333333335\n"
     ]
    }
   ],
   "source": [
    "print(f\"num = {num}\")"
   ]
  },
  {
   "cell_type": "code",
   "execution_count": 38,
   "metadata": {},
   "outputs": [
    {
     "name": "stdout",
     "output_type": "stream",
     "text": [
      "num = 3.3333333333333335, dec = -26.999906885642456, name = Karl\n"
     ]
    }
   ],
   "source": [
    "#Python 3\n",
    "print(f\"num = {num}, dec = {pi}, name = {name}\")"
   ]
  },
  {
   "cell_type": "code",
   "execution_count": 39,
   "metadata": {},
   "outputs": [
    {
     "name": "stdout",
     "output_type": "stream",
     "text": [
      "num = 3, pi = -26.999907, name = Karl\n"
     ]
    }
   ],
   "source": [
    "#Python2\n",
    "print(\"num = %d, pi = %f, name = %s\" % (num, pi, name))\n",
    "#i = integer\n"
   ]
  },
  {
   "cell_type": "code",
   "execution_count": 40,
   "metadata": {},
   "outputs": [
    {
     "name": "stdout",
     "output_type": "stream",
     "text": [
      "num = \n",
      "3.3333333333333335\n"
     ]
    }
   ],
   "source": [
    "print(\"num = \")\n",
    "print(num)"
   ]
  },
  {
   "cell_type": "code",
   "execution_count": 41,
   "metadata": {},
   "outputs": [
    {
     "name": "stdout",
     "output_type": "stream",
     "text": [
      "num = 3.3333333333333335\n"
     ]
    }
   ],
   "source": [
    "#Combine print statements Print in the same line\n",
    "print(\"num = \", end='')\n",
    "print(num)"
   ]
  },
  {
   "cell_type": "code",
   "execution_count": 43,
   "metadata": {},
   "outputs": [
    {
     "name": "stdout",
     "output_type": "stream",
     "text": [
      "This is a story about a man named Karl.\n",
      " Poor learner.\n",
      " Barely bla bla bla bla bla\n"
     ]
    }
   ],
   "source": [
    "#Seperate one line into many by adding \"Carriage returns\". For adding a Tab \\t\n",
    "print(\"This is a story about a man named Karl.\\n Poor learner.\\n Barely bla bla bla bla bla\")"
   ]
  },
  {
   "cell_type": "code",
   "execution_count": null,
   "metadata": {},
   "outputs": [],
   "source": []
  }
 ],
 "metadata": {
  "kernelspec": {
   "display_name": "Python 3",
   "language": "python",
   "name": "python3"
  },
  "language_info": {
   "codemirror_mode": {
    "name": "ipython",
    "version": 3
   },
   "file_extension": ".py",
   "mimetype": "text/x-python",
   "name": "python",
   "nbconvert_exporter": "python",
   "pygments_lexer": "ipython3",
   "version": "3.8.5"
  }
 },
 "nbformat": 4,
 "nbformat_minor": 4
}
